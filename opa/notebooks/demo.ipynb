{
 "cells": [
  {
   "cell_type": "markdown",
   "id": "9a6eff52-245f-440f-85b2-a8174b44b835",
   "metadata": {},
   "source": [
    "# First some dirty trickery"
   ]
  },
  {
   "cell_type": "code",
   "execution_count": 57,
   "id": "513221a1-11ab-44cf-9cba-0d84f7df5beb",
   "metadata": {},
   "outputs": [
    {
     "name": "stdout",
     "output_type": "stream",
     "text": [
      "Requirement already satisfied: matplotlib in /opt/conda/lib/python3.11/site-packages (3.7.2)\n",
      "Requirement already satisfied: contourpy>=1.0.1 in /opt/conda/lib/python3.11/site-packages (from matplotlib) (1.1.0)\n",
      "Requirement already satisfied: cycler>=0.10 in /opt/conda/lib/python3.11/site-packages (from matplotlib) (0.11.0)\n",
      "Requirement already satisfied: fonttools>=4.22.0 in /opt/conda/lib/python3.11/site-packages (from matplotlib) (4.42.0)\n",
      "Requirement already satisfied: kiwisolver>=1.0.1 in /opt/conda/lib/python3.11/site-packages (from matplotlib) (1.4.4)\n",
      "Requirement already satisfied: numpy>=1.20 in /opt/conda/lib/python3.11/site-packages (from matplotlib) (1.25.2)\n",
      "Requirement already satisfied: packaging>=20.0 in /opt/conda/lib/python3.11/site-packages (from matplotlib) (23.1)\n",
      "Requirement already satisfied: pillow>=6.2.0 in /opt/conda/lib/python3.11/site-packages (from matplotlib) (10.0.0)\n",
      "Requirement already satisfied: pyparsing<3.1,>=2.3.1 in /opt/conda/lib/python3.11/site-packages (from matplotlib) (3.0.9)\n",
      "Requirement already satisfied: python-dateutil>=2.7 in /opt/conda/lib/python3.11/site-packages (from matplotlib) (2.8.2)\n",
      "Requirement already satisfied: six>=1.5 in /opt/conda/lib/python3.11/site-packages (from python-dateutil>=2.7->matplotlib) (1.16.0)\n",
      "Collecting scipy\n",
      "  Obtaining dependency information for scipy from https://files.pythonhosted.org/packages/b8/46/1d255bb55e63de02f7b2f3a2f71b59b840db21d61ff7cd41edbfc2da448a/scipy-1.11.1-cp311-cp311-manylinux_2_17_x86_64.manylinux2014_x86_64.whl.metadata\n",
      "  Downloading scipy-1.11.1-cp311-cp311-manylinux_2_17_x86_64.manylinux2014_x86_64.whl.metadata (59 kB)\n",
      "\u001b[2K     \u001b[90m━━━━━━━━━━━━━━━━━━━━━━━━━━━━━━━━━━━━━━━━\u001b[0m \u001b[32m59.1/59.1 kB\u001b[0m \u001b[31m3.6 MB/s\u001b[0m eta \u001b[36m0:00:00\u001b[0m\n",
      "\u001b[?25hRequirement already satisfied: numpy<1.28.0,>=1.21.6 in /opt/conda/lib/python3.11/site-packages (from scipy) (1.25.2)\n",
      "Downloading scipy-1.11.1-cp311-cp311-manylinux_2_17_x86_64.manylinux2014_x86_64.whl (36.2 MB)\n",
      "\u001b[2K   \u001b[90m━━━━━━━━━━━━━━━━━━━━━━━━━━━━━━━━━━━━━━━━\u001b[0m \u001b[32m36.2/36.2 MB\u001b[0m \u001b[31m4.0 MB/s\u001b[0m eta \u001b[36m0:00:00\u001b[0m00:01\u001b[0m00:01\u001b[0m\n",
      "\u001b[?25hInstalling collected packages: scipy\n",
      "Successfully installed scipy-1.11.1\n"
     ]
    }
   ],
   "source": [
    "!pip install matplotlib\n",
    "!pip install scipy"
   ]
  },
  {
   "cell_type": "code",
   "execution_count": 1,
   "id": "cf86d194-7e87-4df3-aafc-75992fd5f96c",
   "metadata": {},
   "outputs": [
    {
     "data": {
      "text/plain": [
       "['/home/jovyan/notebooks',\n",
       " '/opt/conda/lib/python311.zip',\n",
       " '/opt/conda/lib/python3.11',\n",
       " '/opt/conda/lib/python3.11/lib-dynload',\n",
       " '',\n",
       " '/opt/conda/lib/python3.11/site-packages',\n",
       " '../src']"
      ]
     },
     "execution_count": 1,
     "metadata": {},
     "output_type": "execute_result"
    }
   ],
   "source": [
    "import sys\n",
    "\n",
    "sys.path.append(\"../src\")\n",
    "sys.path"
   ]
  },
  {
   "cell_type": "code",
   "execution_count": 2,
   "id": "cf078a85-e629-473c-9404-c093cb236e35",
   "metadata": {},
   "outputs": [],
   "source": [
    "from pathlib import Path\n",
    "import json\n",
    "import pickle \n",
    "\n",
    "data_storage = Path(\"notebooks/data\")\n",
    "\n",
    "def save_json(data, file_name):\n",
    "    file_name = Path(file_name).stem\n",
    "    with open(data_storage / f\"{file_name}.json\", \"w\") as f:\n",
    "        json.dump(data, f, indent=4)\n",
    "\n",
    "def save_pickle(data, file_name):\n",
    "    file_name = Path(file_name).stem\n",
    "    with open(data_storage / f\"{file_name}.pickle\", \"wb\") as f:\n",
    "        pickle.dump(data, f)\n"
   ]
  },
  {
   "cell_type": "markdown",
   "id": "3b4da890-da65-4abc-b983-100a75acedf3",
   "metadata": {},
   "source": [
    "# Open storage"
   ]
  },
  {
   "cell_type": "code",
   "execution_count": 3,
   "id": "cf588cd8-59ee-4f6e-b4e8-31246b29b1e5",
   "metadata": {},
   "outputs": [
    {
     "name": "stderr",
     "output_type": "stream",
     "text": [
      "\u001b[32m2023-08-17 15:10:13.535\u001b[0m | \u001b[1mINFO    \u001b[0m | \u001b[36mopa.storage.mongodb\u001b[0m:\u001b[36m_create_collections_if_not_exist\u001b[0m:\u001b[36m250\u001b[0m - \u001b[1mCollection stock_values already exists, skipping creation\u001b[0m\n",
      "\u001b[32m2023-08-17 15:10:13.539\u001b[0m | \u001b[1mINFO    \u001b[0m | \u001b[36mopa.storage.mongodb\u001b[0m:\u001b[36m_create_collections_if_not_exist\u001b[0m:\u001b[36m250\u001b[0m - \u001b[1mCollection company_info already exists, skipping creation\u001b[0m\n"
     ]
    }
   ],
   "source": [
    "from opa.core import *\n",
    "from opa.http_methods import get_json_data\n",
    "from opa.providers import opa_provider\n",
    "from opa.storage import opa_storage"
   ]
  },
  {
   "cell_type": "markdown",
   "id": "656a77ea-7c0d-42dc-a6a7-11b78b3f38f3",
   "metadata": {},
   "source": [
    "## Data"
   ]
  },
  {
   "cell_type": "code",
   "execution_count": 77,
   "id": "712ab11f-0627-4320-9233-adf0c16ab36d",
   "metadata": {},
   "outputs": [],
   "source": [
    "ALL_TICKERS = [\"AAPL\", \"MSFT\", \"AMZN\", \"GOOG\", \"META\"]"
   ]
  },
  {
   "cell_type": "code",
   "execution_count": 78,
   "id": "50612ef1-45a8-4040-9d30-f231fe8e39ec",
   "metadata": {},
   "outputs": [
    {
     "name": "stderr",
     "output_type": "stream",
     "text": [
      "\u001b[32m2023-08-17 16:11:59.514\u001b[0m | \u001b[1mINFO    \u001b[0m | \u001b[36mopa.storage.mongodb\u001b[0m:\u001b[36mget_values\u001b[0m:\u001b[36m178\u001b[0m - \u001b[1m10760 simple stock values retrieved from storage\u001b[0m\n",
      "\u001b[32m2023-08-17 16:11:59.916\u001b[0m | \u001b[1mINFO    \u001b[0m | \u001b[36mopa.storage.mongodb\u001b[0m:\u001b[36mget_values\u001b[0m:\u001b[36m178\u001b[0m - \u001b[1m9434 simple stock values retrieved from storage\u001b[0m\n",
      "\u001b[32m2023-08-17 16:12:00.320\u001b[0m | \u001b[1mINFO    \u001b[0m | \u001b[36mopa.storage.mongodb\u001b[0m:\u001b[36mget_values\u001b[0m:\u001b[36m178\u001b[0m - \u001b[1m6608 simple stock values retrieved from storage\u001b[0m\n",
      "\u001b[32m2023-08-17 16:12:00.540\u001b[0m | \u001b[1mINFO    \u001b[0m | \u001b[36mopa.storage.mongodb\u001b[0m:\u001b[36mget_values\u001b[0m:\u001b[36m178\u001b[0m - \u001b[1m4782 simple stock values retrieved from storage\u001b[0m\n",
      "\u001b[32m2023-08-17 16:12:01.148\u001b[0m | \u001b[1mINFO    \u001b[0m | \u001b[36mopa.storage.mongodb\u001b[0m:\u001b[36mget_values\u001b[0m:\u001b[36m178\u001b[0m - \u001b[1m2830 simple stock values retrieved from storage\u001b[0m\n"
     ]
    }
   ],
   "source": [
    "values = {\n",
    "    ticker: opa_storage.get_values(ticker, StockValueKind.SIMPLE, 0)\n",
    "    for ticker in ALL_TICKERS\n",
    "}"
   ]
  },
  {
   "cell_type": "code",
   "execution_count": 76,
   "id": "460679a1-a0e1-4c1d-93fc-c76d4ec3a8e6",
   "metadata": {},
   "outputs": [
    {
     "data": {
      "text/html": [
       "<div>\n",
       "<style scoped>\n",
       "    .dataframe tbody tr th:only-of-type {\n",
       "        vertical-align: middle;\n",
       "    }\n",
       "\n",
       "    .dataframe tbody tr th {\n",
       "        vertical-align: top;\n",
       "    }\n",
       "\n",
       "    .dataframe thead th {\n",
       "        text-align: right;\n",
       "    }\n",
       "</style>\n",
       "<table border=\"1\" class=\"dataframe\">\n",
       "  <thead>\n",
       "    <tr style=\"text-align: right;\">\n",
       "      <th></th>\n",
       "      <th>ticker</th>\n",
       "      <th>close</th>\n",
       "      <th>variation</th>\n",
       "    </tr>\n",
       "    <tr>\n",
       "      <th>date</th>\n",
       "      <th></th>\n",
       "      <th></th>\n",
       "      <th></th>\n",
       "    </tr>\n",
       "  </thead>\n",
       "  <tbody>\n",
       "    <tr>\n",
       "      <th>2023-08-16 16:00:00</th>\n",
       "      <td>AAPL</td>\n",
       "      <td>176.57</td>\n",
       "      <td>-0.004959</td>\n",
       "    </tr>\n",
       "    <tr>\n",
       "      <th>2023-08-15 16:00:00</th>\n",
       "      <td>AAPL</td>\n",
       "      <td>177.45</td>\n",
       "      <td>-0.011200</td>\n",
       "    </tr>\n",
       "    <tr>\n",
       "      <th>2023-08-14 16:00:00</th>\n",
       "      <td>AAPL</td>\n",
       "      <td>179.46</td>\n",
       "      <td>0.009393</td>\n",
       "    </tr>\n",
       "    <tr>\n",
       "      <th>2023-08-11 16:00:00</th>\n",
       "      <td>AAPL</td>\n",
       "      <td>177.79</td>\n",
       "      <td>-0.001011</td>\n",
       "    </tr>\n",
       "    <tr>\n",
       "      <th>2023-08-10 16:00:00</th>\n",
       "      <td>AAPL</td>\n",
       "      <td>177.97</td>\n",
       "      <td>-0.001235</td>\n",
       "    </tr>\n",
       "  </tbody>\n",
       "</table>\n",
       "</div>"
      ],
      "text/plain": [
       "                    ticker   close  variation\n",
       "date                                         \n",
       "2023-08-16 16:00:00   AAPL  176.57  -0.004959\n",
       "2023-08-15 16:00:00   AAPL  177.45  -0.011200\n",
       "2023-08-14 16:00:00   AAPL  179.46   0.009393\n",
       "2023-08-11 16:00:00   AAPL  177.79  -0.001011\n",
       "2023-08-10 16:00:00   AAPL  177.97  -0.001235"
      ]
     },
     "execution_count": 76,
     "metadata": {},
     "output_type": "execute_result"
    }
   ],
   "source": [
    "import pandas as pd\n",
    "import matplotlib.pyplot as plt\n",
    "%matplotlib inline\n",
    "\n",
    "def into_df(ticker):\n",
    "    df = pd.DataFrame([v.model_dump() for v in values[ticker]])\\\n",
    "            .dropna(axis=\"columns\")\\\n",
    "            .drop([\"interval\"], axis=\"columns\")\\\n",
    "            .set_index(\"date\")\n",
    "    df[\"variation\"]=df[\"close\"].pct_change(-1)\n",
    "    return df\n",
    "\n",
    "df = into_df(\"AAPL\")\n",
    "df.head(5)"
   ]
  },
  {
   "cell_type": "code",
   "execution_count": 96,
   "id": "61c2a9c2-d34e-427d-a87f-e099d7ae5c2a",
   "metadata": {},
   "outputs": [
    {
     "data": {
      "text/html": [
       "<div>\n",
       "<style scoped>\n",
       "    .dataframe tbody tr th:only-of-type {\n",
       "        vertical-align: middle;\n",
       "    }\n",
       "\n",
       "    .dataframe tbody tr th {\n",
       "        vertical-align: top;\n",
       "    }\n",
       "\n",
       "    .dataframe thead th {\n",
       "        text-align: right;\n",
       "    }\n",
       "</style>\n",
       "<table border=\"1\" class=\"dataframe\">\n",
       "  <thead>\n",
       "    <tr style=\"text-align: right;\">\n",
       "      <th></th>\n",
       "      <th>close_AAPL</th>\n",
       "      <th>var_AAPL</th>\n",
       "      <th>close_MSFT</th>\n",
       "      <th>var_MSFT</th>\n",
       "      <th>close_AMZN</th>\n",
       "      <th>var_AMZN</th>\n",
       "      <th>close_GOOG</th>\n",
       "      <th>var_GOOG</th>\n",
       "      <th>close_META</th>\n",
       "      <th>var_META</th>\n",
       "    </tr>\n",
       "    <tr>\n",
       "      <th>date</th>\n",
       "      <th></th>\n",
       "      <th></th>\n",
       "      <th></th>\n",
       "      <th></th>\n",
       "      <th></th>\n",
       "      <th></th>\n",
       "      <th></th>\n",
       "      <th></th>\n",
       "      <th></th>\n",
       "      <th></th>\n",
       "    </tr>\n",
       "  </thead>\n",
       "  <tbody>\n",
       "    <tr>\n",
       "      <th>2023-08-16 16:00:00</th>\n",
       "      <td>176.57000</td>\n",
       "      <td>-0.004959</td>\n",
       "      <td>320.40</td>\n",
       "      <td>-0.004536</td>\n",
       "      <td>135.07</td>\n",
       "      <td>-0.018886</td>\n",
       "      <td>129.11</td>\n",
       "      <td>-0.008905</td>\n",
       "      <td>294.29</td>\n",
       "      <td>-0.025368</td>\n",
       "    </tr>\n",
       "    <tr>\n",
       "      <th>2023-08-15 16:00:00</th>\n",
       "      <td>177.45000</td>\n",
       "      <td>-0.011200</td>\n",
       "      <td>321.86</td>\n",
       "      <td>-0.006728</td>\n",
       "      <td>137.67</td>\n",
       "      <td>-0.020630</td>\n",
       "      <td>130.27</td>\n",
       "      <td>-0.011833</td>\n",
       "      <td>301.95</td>\n",
       "      <td>-0.013848</td>\n",
       "    </tr>\n",
       "    <tr>\n",
       "      <th>2023-08-14 16:00:00</th>\n",
       "      <td>179.46000</td>\n",
       "      <td>0.009393</td>\n",
       "      <td>324.04</td>\n",
       "      <td>0.009439</td>\n",
       "      <td>140.57</td>\n",
       "      <td>0.015606</td>\n",
       "      <td>131.83</td>\n",
       "      <td>0.012753</td>\n",
       "      <td>306.19</td>\n",
       "      <td>0.015084</td>\n",
       "    </tr>\n",
       "    <tr>\n",
       "      <th>2023-08-11 16:00:00</th>\n",
       "      <td>177.79000</td>\n",
       "      <td>-0.001011</td>\n",
       "      <td>321.01</td>\n",
       "      <td>-0.005946</td>\n",
       "      <td>138.41</td>\n",
       "      <td>-0.001083</td>\n",
       "      <td>130.17</td>\n",
       "      <td>-0.000307</td>\n",
       "      <td>301.64</td>\n",
       "      <td>-0.013410</td>\n",
       "    </tr>\n",
       "    <tr>\n",
       "      <th>2023-08-10 16:00:00</th>\n",
       "      <td>177.97000</td>\n",
       "      <td>-0.001235</td>\n",
       "      <td>322.93</td>\n",
       "      <td>0.002172</td>\n",
       "      <td>138.56</td>\n",
       "      <td>0.005151</td>\n",
       "      <td>130.21</td>\n",
       "      <td>0.000461</td>\n",
       "      <td>305.74</td>\n",
       "      <td>0.001737</td>\n",
       "    </tr>\n",
       "    <tr>\n",
       "      <th>...</th>\n",
       "      <td>...</td>\n",
       "      <td>...</td>\n",
       "      <td>...</td>\n",
       "      <td>...</td>\n",
       "      <td>...</td>\n",
       "      <td>...</td>\n",
       "      <td>...</td>\n",
       "      <td>...</td>\n",
       "      <td>...</td>\n",
       "      <td>...</td>\n",
       "    </tr>\n",
       "    <tr>\n",
       "      <th>1980-12-17 16:00:00</th>\n",
       "      <td>0.11551</td>\n",
       "      <td>0.024752</td>\n",
       "      <td>NaN</td>\n",
       "      <td>NaN</td>\n",
       "      <td>NaN</td>\n",
       "      <td>NaN</td>\n",
       "      <td>NaN</td>\n",
       "      <td>NaN</td>\n",
       "      <td>NaN</td>\n",
       "      <td>NaN</td>\n",
       "    </tr>\n",
       "    <tr>\n",
       "      <th>1980-12-16 16:00:00</th>\n",
       "      <td>0.11272</td>\n",
       "      <td>-0.073407</td>\n",
       "      <td>NaN</td>\n",
       "      <td>NaN</td>\n",
       "      <td>NaN</td>\n",
       "      <td>NaN</td>\n",
       "      <td>NaN</td>\n",
       "      <td>NaN</td>\n",
       "      <td>NaN</td>\n",
       "      <td>NaN</td>\n",
       "    </tr>\n",
       "    <tr>\n",
       "      <th>1980-12-15 16:00:00</th>\n",
       "      <td>0.12165</td>\n",
       "      <td>-0.052201</td>\n",
       "      <td>NaN</td>\n",
       "      <td>NaN</td>\n",
       "      <td>NaN</td>\n",
       "      <td>NaN</td>\n",
       "      <td>NaN</td>\n",
       "      <td>NaN</td>\n",
       "      <td>NaN</td>\n",
       "      <td>NaN</td>\n",
       "    </tr>\n",
       "    <tr>\n",
       "      <th>1980-12-12 16:00:00</th>\n",
       "      <td>0.12835</td>\n",
       "      <td>0.000000</td>\n",
       "      <td>NaN</td>\n",
       "      <td>NaN</td>\n",
       "      <td>NaN</td>\n",
       "      <td>NaN</td>\n",
       "      <td>NaN</td>\n",
       "      <td>NaN</td>\n",
       "      <td>NaN</td>\n",
       "      <td>NaN</td>\n",
       "    </tr>\n",
       "    <tr>\n",
       "      <th>1980-12-12 00:00:00</th>\n",
       "      <td>0.12835</td>\n",
       "      <td>NaN</td>\n",
       "      <td>NaN</td>\n",
       "      <td>NaN</td>\n",
       "      <td>NaN</td>\n",
       "      <td>NaN</td>\n",
       "      <td>NaN</td>\n",
       "      <td>NaN</td>\n",
       "      <td>NaN</td>\n",
       "      <td>NaN</td>\n",
       "    </tr>\n",
       "  </tbody>\n",
       "</table>\n",
       "<p>10760 rows × 10 columns</p>\n",
       "</div>"
      ],
      "text/plain": [
       "                     close_AAPL  var_AAPL  close_MSFT  var_MSFT  close_AMZN  \\\n",
       "date                                                                          \n",
       "2023-08-16 16:00:00   176.57000 -0.004959      320.40 -0.004536      135.07   \n",
       "2023-08-15 16:00:00   177.45000 -0.011200      321.86 -0.006728      137.67   \n",
       "2023-08-14 16:00:00   179.46000  0.009393      324.04  0.009439      140.57   \n",
       "2023-08-11 16:00:00   177.79000 -0.001011      321.01 -0.005946      138.41   \n",
       "2023-08-10 16:00:00   177.97000 -0.001235      322.93  0.002172      138.56   \n",
       "...                         ...       ...         ...       ...         ...   \n",
       "1980-12-17 16:00:00     0.11551  0.024752         NaN       NaN         NaN   \n",
       "1980-12-16 16:00:00     0.11272 -0.073407         NaN       NaN         NaN   \n",
       "1980-12-15 16:00:00     0.12165 -0.052201         NaN       NaN         NaN   \n",
       "1980-12-12 16:00:00     0.12835  0.000000         NaN       NaN         NaN   \n",
       "1980-12-12 00:00:00     0.12835       NaN         NaN       NaN         NaN   \n",
       "\n",
       "                     var_AMZN  close_GOOG  var_GOOG  close_META  var_META  \n",
       "date                                                                       \n",
       "2023-08-16 16:00:00 -0.018886      129.11 -0.008905      294.29 -0.025368  \n",
       "2023-08-15 16:00:00 -0.020630      130.27 -0.011833      301.95 -0.013848  \n",
       "2023-08-14 16:00:00  0.015606      131.83  0.012753      306.19  0.015084  \n",
       "2023-08-11 16:00:00 -0.001083      130.17 -0.000307      301.64 -0.013410  \n",
       "2023-08-10 16:00:00  0.005151      130.21  0.000461      305.74  0.001737  \n",
       "...                       ...         ...       ...         ...       ...  \n",
       "1980-12-17 16:00:00       NaN         NaN       NaN         NaN       NaN  \n",
       "1980-12-16 16:00:00       NaN         NaN       NaN         NaN       NaN  \n",
       "1980-12-15 16:00:00       NaN         NaN       NaN         NaN       NaN  \n",
       "1980-12-12 16:00:00       NaN         NaN       NaN         NaN       NaN  \n",
       "1980-12-12 00:00:00       NaN         NaN       NaN         NaN       NaN  \n",
       "\n",
       "[10760 rows x 10 columns]"
      ]
     },
     "execution_count": 96,
     "metadata": {},
     "output_type": "execute_result"
    }
   ],
   "source": [
    "df_meta = pd.DataFrame()\n",
    "for t in ALL_TICKERS:\n",
    "    tmp = into_df(t)\n",
    "    df_meta[f\"close_{t}\"] = tmp[\"close\"]\n",
    "    df_meta[f\"var_{t}\"] = tmp[\"variation\"]\n",
    "df_meta"
   ]
  },
  {
   "cell_type": "code",
   "execution_count": 97,
   "id": "90f8a8f7-ae92-4154-a187-b67c88aa335e",
   "metadata": {},
   "outputs": [
    {
     "data": {
      "text/plain": [
       "array([[<Axes: title={'center': 'var_AAPL'}>,\n",
       "        <Axes: title={'center': 'var_MSFT'}>],\n",
       "       [<Axes: title={'center': 'var_AMZN'}>,\n",
       "        <Axes: title={'center': 'var_GOOG'}>],\n",
       "       [<Axes: title={'center': 'var_META'}>, <Axes: >]], dtype=object)"
      ]
     },
     "execution_count": 97,
     "metadata": {},
     "output_type": "execute_result"
    },
    {
     "data": {
      "image/png": "[encoded data removed]",
      "text/plain": [
       "<Figure size 640x480 with 6 Axes>"
      ]
     },
     "metadata": {},
     "output_type": "display_data"
    }
   ],
   "source": [
    "df_meta[[c for c in df_meta.columns if c.startswith(\"var\")]].hist(bins=100)"
   ]
  },
  {
   "cell_type": "code",
   "execution_count": 89,
   "id": "bbafbde2-aa52-4550-b10d-cec171d85345",
   "metadata": {},
   "outputs": [
    {
     "data": {
      "text/plain": [
       "[<matplotlib.lines.Line2D at 0x7f6bfdfd02d0>]"
      ]
     },
     "execution_count": 89,
     "metadata": {},
     "output_type": "execute_result"
    },
    {
     "data": {
      "image/png": "[encoded data removed]",
      "text/plain": [
       "<Figure size 640x480 with 1 Axes>"
      ]
     },
     "metadata": {},
     "output_type": "display_data"
    }
   ],
   "source": [
    "from scipy.signal import correlate\n",
    "dfs = {}\n",
    "for t in ALL_TICKERS:\n",
    "    dfs[t] = into_df(t)\n",
    "\n",
    "freqs = correlate(dfs[\"AAPL\"][[\"close\"]].dropna().values[:1000], dfs[\"META\"][[\"close\"]].dropna().values[:1000], mode=\"full\")\n",
    "plt.plot(freqs)"
   ]
  },
  {
   "cell_type": "markdown",
   "id": "b5582eea-69b9-4eb9-a990-8bf4190c37bd",
   "metadata": {},
   "source": [
    "## Data retrieval"
   ]
  },
  {
   "cell_type": "markdown",
   "id": "953c6a33-1abe-42d1-9f91-4911315d83f4",
   "metadata": {},
   "source": [
    "An example of the raw output of the API"
   ]
  },
  {
   "cell_type": "code",
   "execution_count": 6,
   "id": "988b4ea4-abe2-4a72-9c21-b29ed248c712",
   "metadata": {
    "scrolled": true
   },
   "outputs": [
    {
     "ename": "FileNotFoundError",
     "evalue": "[Errno 2] No such file or directory: 'notebooks/data/apple_historical_data_raw.json'",
     "output_type": "error",
     "traceback": [
      "\u001b[0;31m---------------------------------------------------------------------------\u001b[0m",
      "\u001b[0;31mFileNotFoundError\u001b[0m                         Traceback (most recent call last)",
      "Cell \u001b[0;32mIn[6], line 2\u001b[0m\n\u001b[1;32m      1\u001b[0m aapl_stock_raw \u001b[38;5;241m=\u001b[39m opa_provider\u001b[38;5;241m.\u001b[39mget_raw_stock_values(\u001b[38;5;124m\"\u001b[39m\u001b[38;5;124mAAPL\u001b[39m\u001b[38;5;124m\"\u001b[39m, StockValueKind\u001b[38;5;241m.\u001b[39mSIMPLE, StockValueSerieGranularity\u001b[38;5;241m.\u001b[39mCOARSE)\n\u001b[0;32m----> 2\u001b[0m \u001b[43msave_json\u001b[49m\u001b[43m(\u001b[49m\u001b[43maapl_stock_raw\u001b[49m\u001b[43m,\u001b[49m\u001b[43m \u001b[49m\u001b[38;5;124;43m\"\u001b[39;49m\u001b[38;5;124;43mapple_historical_data_raw\u001b[39;49m\u001b[38;5;124;43m\"\u001b[39;49m\u001b[43m)\u001b[49m\n\u001b[1;32m      3\u001b[0m aapl_stock_raw\n",
      "Cell \u001b[0;32mIn[2], line 9\u001b[0m, in \u001b[0;36msave_json\u001b[0;34m(data, file_name)\u001b[0m\n\u001b[1;32m      7\u001b[0m \u001b[38;5;28;01mdef\u001b[39;00m \u001b[38;5;21msave_json\u001b[39m(data, file_name):\n\u001b[1;32m      8\u001b[0m     file_name \u001b[38;5;241m=\u001b[39m Path(file_name)\u001b[38;5;241m.\u001b[39mstem\n\u001b[0;32m----> 9\u001b[0m     \u001b[38;5;28;01mwith\u001b[39;00m \u001b[38;5;28;43mopen\u001b[39;49m\u001b[43m(\u001b[49m\u001b[43mdata_storage\u001b[49m\u001b[43m \u001b[49m\u001b[38;5;241;43m/\u001b[39;49m\u001b[43m \u001b[49m\u001b[38;5;124;43mf\u001b[39;49m\u001b[38;5;124;43m\"\u001b[39;49m\u001b[38;5;132;43;01m{\u001b[39;49;00m\u001b[43mfile_name\u001b[49m\u001b[38;5;132;43;01m}\u001b[39;49;00m\u001b[38;5;124;43m.json\u001b[39;49m\u001b[38;5;124;43m\"\u001b[39;49m\u001b[43m,\u001b[49m\u001b[43m \u001b[49m\u001b[38;5;124;43m\"\u001b[39;49m\u001b[38;5;124;43mw\u001b[39;49m\u001b[38;5;124;43m\"\u001b[39;49m\u001b[43m)\u001b[49m \u001b[38;5;28;01mas\u001b[39;00m f:\n\u001b[1;32m     10\u001b[0m         json\u001b[38;5;241m.\u001b[39mdump(data, f, indent\u001b[38;5;241m=\u001b[39m\u001b[38;5;241m4\u001b[39m)\n",
      "File \u001b[0;32m/opt/conda/lib/python3.11/site-packages/IPython/core/interactiveshell.py:284\u001b[0m, in \u001b[0;36m_modified_open\u001b[0;34m(file, *args, **kwargs)\u001b[0m\n\u001b[1;32m    277\u001b[0m \u001b[38;5;28;01mif\u001b[39;00m file \u001b[38;5;129;01min\u001b[39;00m {\u001b[38;5;241m0\u001b[39m, \u001b[38;5;241m1\u001b[39m, \u001b[38;5;241m2\u001b[39m}:\n\u001b[1;32m    278\u001b[0m     \u001b[38;5;28;01mraise\u001b[39;00m \u001b[38;5;167;01mValueError\u001b[39;00m(\n\u001b[1;32m    279\u001b[0m         \u001b[38;5;124mf\u001b[39m\u001b[38;5;124m\"\u001b[39m\u001b[38;5;124mIPython won\u001b[39m\u001b[38;5;124m'\u001b[39m\u001b[38;5;124mt let you open fd=\u001b[39m\u001b[38;5;132;01m{\u001b[39;00mfile\u001b[38;5;132;01m}\u001b[39;00m\u001b[38;5;124m by default \u001b[39m\u001b[38;5;124m\"\u001b[39m\n\u001b[1;32m    280\u001b[0m         \u001b[38;5;124m\"\u001b[39m\u001b[38;5;124mas it is likely to crash IPython. If you know what you are doing, \u001b[39m\u001b[38;5;124m\"\u001b[39m\n\u001b[1;32m    281\u001b[0m         \u001b[38;5;124m\"\u001b[39m\u001b[38;5;124myou can use builtins\u001b[39m\u001b[38;5;124m'\u001b[39m\u001b[38;5;124m open.\u001b[39m\u001b[38;5;124m\"\u001b[39m\n\u001b[1;32m    282\u001b[0m     )\n\u001b[0;32m--> 284\u001b[0m \u001b[38;5;28;01mreturn\u001b[39;00m \u001b[43mio_open\u001b[49m\u001b[43m(\u001b[49m\u001b[43mfile\u001b[49m\u001b[43m,\u001b[49m\u001b[43m \u001b[49m\u001b[38;5;241;43m*\u001b[39;49m\u001b[43margs\u001b[49m\u001b[43m,\u001b[49m\u001b[43m \u001b[49m\u001b[38;5;241;43m*\u001b[39;49m\u001b[38;5;241;43m*\u001b[39;49m\u001b[43mkwargs\u001b[49m\u001b[43m)\u001b[49m\n",
      "\u001b[0;31mFileNotFoundError\u001b[0m: [Errno 2] No such file or directory: 'notebooks/data/apple_historical_data_raw.json'"
     ]
    }
   ],
   "source": [
    "aapl_stock_raw = opa_provider.get_raw_stock_values(\"AAPL\", StockValueKind.SIMPLE, StockValueSerieGranularity.COARSE)\n",
    "save_json(aapl_stock_raw, \"apple_historical_data_raw\")\n",
    "aapl_stock_raw"
   ]
  },
  {
   "cell_type": "code",
   "execution_count": null,
   "id": "b0f538cb-eeb9-461b-8d34-3ad8bd898e44",
   "metadata": {
    "scrolled": true
   },
   "outputs": [],
   "source": [
    "aapl_stock = opa_provider.get_stock_values(\"AAPL\", StockValueType.HISTORICAL)\n",
    "save_pickle(aapl_stock, \"apple_historical_data\")\n",
    "aapl_stock"
   ]
  },
  {
   "cell_type": "code",
   "execution_count": null,
   "id": "22586aa5-c629-4b30-984d-490c8178bfb9",
   "metadata": {},
   "outputs": [],
   "source": []
  }
 ],
 "metadata": {
  "kernelspec": {
   "display_name": "Python 3 (ipykernel)",
   "language": "python",
   "name": "python3"
  },
  "language_info": {
   "codemirror_mode": {
    "name": "ipython",
    "version": 3
   },
   "file_extension": ".py",
   "mimetype": "text/x-python",
   "name": "python",
   "nbconvert_exporter": "python",
   "pygments_lexer": "ipython3",
   "version": "3.11.4"
  }
 },
 "nbformat": 4,
 "nbformat_minor": 5
}
