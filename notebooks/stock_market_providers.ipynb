{
 "cells": [
  {
   "cell_type": "code",
   "execution_count": 19,
   "metadata": {},
   "outputs": [],
   "source": [
    "import os\n",
    "from pprint import pprint\n",
    "\n",
    "from opa.http_methods import get_json_data\n",
    "from opa.env import get_secret\n",
    "\n",
    "os.putenv(\"USE_HTTP_CACHE\", \"True\")\n",
    "ticker = \"AAPL\"\n",
    "fmp_key = get_secret(\"fmp_cloud_api_key\")\n",
    "alphavantage_key = get_secret(\"alphavantage_api_key\")"
   ]
  },
  {
   "cell_type": "code",
   "execution_count": 25,
   "metadata": {},
   "outputs": [],
   "source": [
    "def print_data_span(all_dates: list[any]):\n",
    "    pprint(f'Data spans from {min(all_dates)} to {max(all_dates)}')"
   ]
  },
  {
   "cell_type": "markdown",
   "metadata": {},
   "source": [
    "# Market providers overview\n",
    "\n",
    "There are various market providers available."
   ]
  },
  {
   "cell_type": "markdown",
   "metadata": {},
   "source": [
    "## FMP Cloud"
   ]
  },
  {
   "cell_type": "markdown",
   "metadata": {},
   "source": [
    "A full history can be retrieved using this API"
   ]
  },
  {
   "cell_type": "code",
   "execution_count": 26,
   "metadata": {},
   "outputs": [
    {
     "name": "stdout",
     "output_type": "stream",
     "text": [
      "'Data spans from 1980-12-12 to 2023-07-14'\n",
      "{'historical': [{'close': 190.69, 'date': '2023-07-14'},\n",
      "                {'close': 190.54, 'date': '2023-07-13'},\n",
      "                {'close': 189.77, 'date': '2023-07-12'},\n",
      "                {'close': 188.08, 'date': '2023-07-11'},\n",
      "                {'close': 188.61, 'date': '2023-07-10'}],\n",
      " 'symbol': 'AAPL'}\n"
     ]
    }
   ],
   "source": [
    "fmp_full_history = get_json_data(\n",
    "    f\"https://fmpcloud.io/api/v3/historical-price-full/{ticker}\",\n",
    "    params={\"serietype\": \"line\", \"apikey\": fmp_key},\n",
    ")\n",
    "print_data_span([v[\"date\"] for v in fmp_full_history[\"historical\"]])\n",
    "pprint({\n",
    "    \"symbol\": fmp_full_history[\"symbol\"],\n",
    "    \"historical\": fmp_full_history[\"historical\"][:5]\n",
    "})"
   ]
  },
  {
   "cell_type": "markdown",
   "metadata": {},
   "source": [
    "A shorter but more complete history can be retrieved like this : "
   ]
  },
  {
   "cell_type": "code",
   "execution_count": 27,
   "metadata": {},
   "outputs": [
    {
     "name": "stdout",
     "output_type": "stream",
     "text": [
      "'Data spans from 2018-07-18 to 2023-07-14'\n",
      "{'historical': [{'adjClose': 190.690002,\n",
      "                 'change': 0.46,\n",
      "                 'changeOverTime': 0.0024181,\n",
      "                 'changePercent': 0.24181,\n",
      "                 'close': 190.69,\n",
      "                 'date': '2023-07-14',\n",
      "                 'high': 191.1799,\n",
      "                 'label': 'July 14, 23',\n",
      "                 'low': 189.63,\n",
      "                 'open': 190.23,\n",
      "                 'unadjustedVolume': 40764621,\n",
      "                 'volume': 40835691,\n",
      "                 'vwap': 190.46},\n",
      "                {'adjClose': 190.539993,\n",
      "                 'change': 0.04,\n",
      "                 'changeOverTime': 0.0002099738,\n",
      "                 'changePercent': 0.02099738,\n",
      "                 'close': 190.54,\n",
      "                 'date': '2023-07-13',\n",
      "                 'high': 191.19,\n",
      "                 'label': 'July 13, 23',\n",
      "                 'low': 189.78,\n",
      "                 'open': 190.5,\n",
      "                 'unadjustedVolume': 41342300,\n",
      "                 'volume': 41337338,\n",
      "                 'vwap': 190.57}],\n",
      " 'symbol': 'AAPL'}\n"
     ]
    }
   ],
   "source": [
    "fmp_shorter_history = get_json_data(\n",
    "    f\"https://fmpcloud.io/api/v3/historical-price-full/{ticker}\",\n",
    "    params={\"apikey\": fmp_key},\n",
    ")\n",
    "\n",
    "print_data_span([v[\"date\"] for v in fmp_shorter_history[\"historical\"]])\n",
    "\n",
    "pprint({\n",
    "    \"symbol\": fmp_shorter_history[\"symbol\"],\n",
    "    \"historical\": fmp_shorter_history[\"historical\"][:2]\n",
    "})"
   ]
  },
  {
   "cell_type": "code",
   "execution_count": 28,
   "metadata": {},
   "outputs": [
    {
     "name": "stdout",
     "output_type": "stream",
     "text": [
      "'Data spans from 2023-05-17 09:30:00 to 2023-07-14 16:00:00'\n",
      "[{'close': 190.69,\n",
      "  'date': '2023-07-14 16:00:00',\n",
      "  'high': 190.71,\n",
      "  'low': 190.3978,\n",
      "  'open': 190.69,\n",
      "  'volume': 1654688},\n",
      " {'close': 190.72,\n",
      "  'date': '2023-07-14 15:45:00',\n",
      "  'high': 190.74,\n",
      "  'low': 190.26,\n",
      "  'open': 190.42,\n",
      "  'volume': 3749214},\n",
      " {'close': 190.415,\n",
      "  'date': '2023-07-14 15:30:00',\n",
      "  'high': 190.49,\n",
      "  'low': 190.16,\n",
      "  'open': 190.275,\n",
      "  'volume': 1254758},\n",
      " {'close': 190.275,\n",
      "  'date': '2023-07-14 15:15:00',\n",
      "  'high': 190.42,\n",
      "  'low': 190.04,\n",
      "  'open': 190.04,\n",
      "  'volume': 1315560}]\n"
     ]
    }
   ],
   "source": [
    "fmp_streaming = get_json_data(\n",
    "    f\"https://fmpcloud.io/api/v3/historical-chart/15min/{ticker}\",\n",
    "    params={\"apikey\": fmp_key},\n",
    ")\n",
    "\n",
    "print_data_span([v[\"date\"] for v in fmp_streaming])\n",
    "pprint(fmp_streaming[:4])"
   ]
  },
  {
   "cell_type": "markdown",
   "metadata": {},
   "source": [
    "## Alphavantage"
   ]
  },
  {
   "cell_type": "markdown",
   "metadata": {},
   "source": [
    "The cell below displays the kind of data one can get as full history"
   ]
  },
  {
   "cell_type": "code",
   "execution_count": 30,
   "metadata": {},
   "outputs": [
    {
     "name": "stdout",
     "output_type": "stream",
     "text": [
      "'Data spans from 2023-02-21 to 2023-07-14'\n",
      "{'Meta Data': {'1. Information': 'Daily Time Series with Splits and Dividend '\n",
      "                                 'Events',\n",
      "               '2. Symbol': 'AAPL',\n",
      "               '3. Last Refreshed': '2023-07-14',\n",
      "               '4. Output Size': 'Compact',\n",
      "               '5. Time Zone': 'US/Eastern'},\n",
      " 'Time Series (Daily)': {'2023-07-12': {'1. open': '189.68',\n",
      "                                        '2. high': '191.7',\n",
      "                                        '3. low': '188.47',\n",
      "                                        '4. close': '189.77',\n",
      "                                        '5. adjusted close': '189.77',\n",
      "                                        '6. volume': '60750248',\n",
      "                                        '7. dividend amount': '0.0000',\n",
      "                                        '8. split coefficient': '1.0'},\n",
      "                         '2023-07-13': {'1. open': '190.5',\n",
      "                                        '2. high': '191.19',\n",
      "                                        '3. low': '189.78',\n",
      "                                        '4. close': '190.54',\n",
      "                                        '5. adjusted close': '190.54',\n",
      "                                        '6. volume': '41342338',\n",
      "                                        '7. dividend amount': '0.0000',\n",
      "                                        '8. split coefficient': '1.0'},\n",
      "                         '2023-07-14': {'1. open': '190.23',\n",
      "                                        '2. high': '191.1799',\n",
      "                                        '3. low': '189.63',\n",
      "                                        '4. close': '190.69',\n",
      "                                        '5. adjusted close': '190.69',\n",
      "                                        '6. volume': '41616242',\n",
      "                                        '7. dividend amount': '0.0000',\n",
      "                                        '8. split coefficient': '1.0'}}}\n"
     ]
    }
   ],
   "source": [
    "\n",
    "alpha_full_history = get_json_data(\n",
    "    f\"https://www.alphavantage.co/query\",\n",
    "    params={\n",
    "        \"function\": \"TIME_SERIES_DAILY_ADJUSTED\",\n",
    "        \"symbol\": ticker,\n",
    "        \"apikey\": alphavantage_key,\n",
    "    },\n",
    ")\n",
    "print_data_span(alpha_full_history[\"Time Series (Daily)\"].keys())\n",
    "pprint({\n",
    "    \"Meta Data\": alpha_full_history[\"Meta Data\"],\n",
    "    \"Time Series (Daily)\": dict(list(alpha_full_history[\"Time Series (Daily)\"].items())[:3])\n",
    "})\n"
   ]
  },
  {
   "cell_type": "markdown",
   "metadata": {},
   "source": [
    "The cell below displays the streaming data."
   ]
  },
  {
   "cell_type": "code",
   "execution_count": 32,
   "metadata": {},
   "outputs": [
    {
     "name": "stdout",
     "output_type": "stream",
     "text": [
      "'Data spans from 2023-07-13 11:00:00 to 2023-07-14 19:45:00'\n",
      "{'Meta Data': {'1. Information': 'Intraday (15min) open, high, low, close '\n",
      "                                 'prices and volume',\n",
      "               '2. Symbol': 'AAPL',\n",
      "               '3. Last Refreshed': '2023-07-14 19:45:00',\n",
      "               '4. Interval': '15min',\n",
      "               '5. Output Size': 'Compact',\n",
      "               '6. Time Zone': 'US/Eastern'},\n",
      " 'Time Series (15min)': {'2023-07-14 19:15:00': {'1. open': '190.8000',\n",
      "                                                 '2. high': '190.8100',\n",
      "                                                 '3. low': '190.7500',\n",
      "                                                 '4. close': '190.7600',\n",
      "                                                 '5. volume': '2896'},\n",
      "                         '2023-07-14 19:30:00': {'1. open': '190.7600',\n",
      "                                                 '2. high': '190.7600',\n",
      "                                                 '3. low': '190.7000',\n",
      "                                                 '4. close': '190.7100',\n",
      "                                                 '5. volume': '2211'},\n",
      "                         '2023-07-14 19:45:00': {'1. open': '190.7300',\n",
      "                                                 '2. high': '190.7500',\n",
      "                                                 '3. low': '190.6900',\n",
      "                                                 '4. close': '190.7200',\n",
      "                                                 '5. volume': '11717'}}}\n"
     ]
    }
   ],
   "source": [
    "alpha_streaming = get_json_data(\n",
    "    f\"https://www.alphavantage.co/query\",\n",
    "    params={\n",
    "        \"function\": \"TIME_SERIES_INTRADAY\",\n",
    "        \"symbol\": ticker,\n",
    "        \"interval\": \"15min\",\n",
    "        \"apikey\": alphavantage_key,\n",
    "    },\n",
    ")\n",
    "\n",
    "print_data_span(alpha_streaming[\"Time Series (15min)\"].keys())\n",
    "pprint({\n",
    "    \"Meta Data\": alpha_streaming[\"Meta Data\"],\n",
    "    \"Time Series (15min)\": dict(list(alpha_streaming[\"Time Series (15min)\"].items())[:3])\n",
    "})"
   ]
  },
  {
   "cell_type": "code",
   "execution_count": null,
   "metadata": {},
   "outputs": [],
   "source": []
  }
 ],
 "metadata": {
  "kernelspec": {
   "display_name": "Python 3.11.3 ('venv': venv)",
   "language": "python",
   "name": "python3"
  },
  "language_info": {
   "codemirror_mode": {
    "name": "ipython",
    "version": 3
   },
   "file_extension": ".py",
   "mimetype": "text/x-python",
   "name": "python",
   "nbconvert_exporter": "python",
   "pygments_lexer": "ipython3",
   "version": "3.11.3"
  },
  "orig_nbformat": 4,
  "vscode": {
   "interpreter": {
    "hash": "2774c024e54e9b87a69ed2d6e0cebb0def4d209cbdcd65ab0389488c9c4e292f"
   }
  }
 },
 "nbformat": 4,
 "nbformat_minor": 2
}
